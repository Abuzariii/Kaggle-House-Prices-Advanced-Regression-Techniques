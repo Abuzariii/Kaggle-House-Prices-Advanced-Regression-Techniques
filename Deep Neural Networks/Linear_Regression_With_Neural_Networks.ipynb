{
  "nbformat": 4,
  "nbformat_minor": 0,
  "metadata": {
    "colab": {
      "name": "Linear_Regression_With_Neural_Networks.ipynb",
      "provenance": [],
      "collapsed_sections": [
        "rRjDBMPMItTe",
        "dgWZJ9fzB9En",
        "TfvOCZDMGN4b",
        "PPqxYYi2ImsH",
        "sxsfnfIJDCvx",
        "zTYVgP2EG22G",
        "7Yg4wYPFSRzo"
      ]
    },
    "kernelspec": {
      "name": "python3",
      "display_name": "Python 3"
    },
    "language_info": {
      "name": "python"
    }
  },
  "cells": [
    {
      "cell_type": "markdown",
      "source": [
        "**In this notebook, we will try a few Deep Neural Network models and see if we can beat the score of our Baseline model. Remember our Baseline model gave us an MAE of 21k, we are trying to beat that.**"
      ],
      "metadata": {
        "id": "WjzLkkRm_OiE"
      }
    },
    {
      "cell_type": "code",
      "source": [
        "import numpy as np\n",
        "import pandas as pd"
      ],
      "metadata": {
        "id": "o2kuk85449C0"
      },
      "execution_count": 6,
      "outputs": []
    },
    {
      "cell_type": "code",
      "source": [
        "df = pd.read_csv('PreprocessedDataset.csv')"
      ],
      "metadata": {
        "id": "pR3ZgZxz5H2m"
      },
      "execution_count": 7,
      "outputs": []
    },
    {
      "cell_type": "code",
      "source": [
        "df.shape"
      ],
      "metadata": {
        "colab": {
          "base_uri": "https://localhost:8080/"
        },
        "id": "Fmt4nCNX8Kij",
        "outputId": "e2cf2ae0-128d-4558-86d6-993dca0c8986"
      },
      "execution_count": 8,
      "outputs": [
        {
          "output_type": "execute_result",
          "data": {
            "text/plain": [
              "(1460, 77)"
            ]
          },
          "metadata": {},
          "execution_count": 8
        }
      ]
    },
    {
      "cell_type": "code",
      "source": [
        "df.head(5)"
      ],
      "metadata": {
        "colab": {
          "base_uri": "https://localhost:8080/",
          "height": 299
        },
        "id": "SQc9GcG15MD8",
        "outputId": "0d6b7563-8fbd-46f0-b411-c45bbbbddeb0"
      },
      "execution_count": 9,
      "outputs": [
        {
          "output_type": "execute_result",
          "data": {
            "text/plain": [
              "   Id  MSZoning  Street  LotShape  LandContour  Utilities  LotConfig  \\\n",
              "0   1         3       1         3            3          0          4   \n",
              "1   2         3       1         3            3          0          2   \n",
              "2   3         3       1         0            3          0          4   \n",
              "3   4         3       1         0            3          0          0   \n",
              "4   5         3       1         0            3          0          2   \n",
              "\n",
              "   LandSlope  Neighborhood  Condition1  ...  WoodDeckSF  OpenPorchSF  \\\n",
              "0          0             5           2  ...           0           61   \n",
              "1          0            24           1  ...         298            0   \n",
              "2          0             5           2  ...           0           42   \n",
              "3          0             6           2  ...           0           35   \n",
              "4          0            15           2  ...         192           84   \n",
              "\n",
              "   EnclosedPorch  3SsnPorch  ScreenPorch  PoolArea  MiscVal  MoSold  YrSold  \\\n",
              "0              0          0            0         0        0       2    2008   \n",
              "1              0          0            0         0        0       5    2007   \n",
              "2              0          0            0         0        0       9    2008   \n",
              "3            272          0            0         0        0       2    2006   \n",
              "4              0          0            0         0        0      12    2008   \n",
              "\n",
              "   SalePrice  \n",
              "0     208500  \n",
              "1     181500  \n",
              "2     223500  \n",
              "3     140000  \n",
              "4     250000  \n",
              "\n",
              "[5 rows x 77 columns]"
            ],
            "text/html": [
              "\n",
              "  <div id=\"df-1dd45929-4005-4ecb-a732-a395f31454e7\">\n",
              "    <div class=\"colab-df-container\">\n",
              "      <div>\n",
              "<style scoped>\n",
              "    .dataframe tbody tr th:only-of-type {\n",
              "        vertical-align: middle;\n",
              "    }\n",
              "\n",
              "    .dataframe tbody tr th {\n",
              "        vertical-align: top;\n",
              "    }\n",
              "\n",
              "    .dataframe thead th {\n",
              "        text-align: right;\n",
              "    }\n",
              "</style>\n",
              "<table border=\"1\" class=\"dataframe\">\n",
              "  <thead>\n",
              "    <tr style=\"text-align: right;\">\n",
              "      <th></th>\n",
              "      <th>Id</th>\n",
              "      <th>MSZoning</th>\n",
              "      <th>Street</th>\n",
              "      <th>LotShape</th>\n",
              "      <th>LandContour</th>\n",
              "      <th>Utilities</th>\n",
              "      <th>LotConfig</th>\n",
              "      <th>LandSlope</th>\n",
              "      <th>Neighborhood</th>\n",
              "      <th>Condition1</th>\n",
              "      <th>...</th>\n",
              "      <th>WoodDeckSF</th>\n",
              "      <th>OpenPorchSF</th>\n",
              "      <th>EnclosedPorch</th>\n",
              "      <th>3SsnPorch</th>\n",
              "      <th>ScreenPorch</th>\n",
              "      <th>PoolArea</th>\n",
              "      <th>MiscVal</th>\n",
              "      <th>MoSold</th>\n",
              "      <th>YrSold</th>\n",
              "      <th>SalePrice</th>\n",
              "    </tr>\n",
              "  </thead>\n",
              "  <tbody>\n",
              "    <tr>\n",
              "      <th>0</th>\n",
              "      <td>1</td>\n",
              "      <td>3</td>\n",
              "      <td>1</td>\n",
              "      <td>3</td>\n",
              "      <td>3</td>\n",
              "      <td>0</td>\n",
              "      <td>4</td>\n",
              "      <td>0</td>\n",
              "      <td>5</td>\n",
              "      <td>2</td>\n",
              "      <td>...</td>\n",
              "      <td>0</td>\n",
              "      <td>61</td>\n",
              "      <td>0</td>\n",
              "      <td>0</td>\n",
              "      <td>0</td>\n",
              "      <td>0</td>\n",
              "      <td>0</td>\n",
              "      <td>2</td>\n",
              "      <td>2008</td>\n",
              "      <td>208500</td>\n",
              "    </tr>\n",
              "    <tr>\n",
              "      <th>1</th>\n",
              "      <td>2</td>\n",
              "      <td>3</td>\n",
              "      <td>1</td>\n",
              "      <td>3</td>\n",
              "      <td>3</td>\n",
              "      <td>0</td>\n",
              "      <td>2</td>\n",
              "      <td>0</td>\n",
              "      <td>24</td>\n",
              "      <td>1</td>\n",
              "      <td>...</td>\n",
              "      <td>298</td>\n",
              "      <td>0</td>\n",
              "      <td>0</td>\n",
              "      <td>0</td>\n",
              "      <td>0</td>\n",
              "      <td>0</td>\n",
              "      <td>0</td>\n",
              "      <td>5</td>\n",
              "      <td>2007</td>\n",
              "      <td>181500</td>\n",
              "    </tr>\n",
              "    <tr>\n",
              "      <th>2</th>\n",
              "      <td>3</td>\n",
              "      <td>3</td>\n",
              "      <td>1</td>\n",
              "      <td>0</td>\n",
              "      <td>3</td>\n",
              "      <td>0</td>\n",
              "      <td>4</td>\n",
              "      <td>0</td>\n",
              "      <td>5</td>\n",
              "      <td>2</td>\n",
              "      <td>...</td>\n",
              "      <td>0</td>\n",
              "      <td>42</td>\n",
              "      <td>0</td>\n",
              "      <td>0</td>\n",
              "      <td>0</td>\n",
              "      <td>0</td>\n",
              "      <td>0</td>\n",
              "      <td>9</td>\n",
              "      <td>2008</td>\n",
              "      <td>223500</td>\n",
              "    </tr>\n",
              "    <tr>\n",
              "      <th>3</th>\n",
              "      <td>4</td>\n",
              "      <td>3</td>\n",
              "      <td>1</td>\n",
              "      <td>0</td>\n",
              "      <td>3</td>\n",
              "      <td>0</td>\n",
              "      <td>0</td>\n",
              "      <td>0</td>\n",
              "      <td>6</td>\n",
              "      <td>2</td>\n",
              "      <td>...</td>\n",
              "      <td>0</td>\n",
              "      <td>35</td>\n",
              "      <td>272</td>\n",
              "      <td>0</td>\n",
              "      <td>0</td>\n",
              "      <td>0</td>\n",
              "      <td>0</td>\n",
              "      <td>2</td>\n",
              "      <td>2006</td>\n",
              "      <td>140000</td>\n",
              "    </tr>\n",
              "    <tr>\n",
              "      <th>4</th>\n",
              "      <td>5</td>\n",
              "      <td>3</td>\n",
              "      <td>1</td>\n",
              "      <td>0</td>\n",
              "      <td>3</td>\n",
              "      <td>0</td>\n",
              "      <td>2</td>\n",
              "      <td>0</td>\n",
              "      <td>15</td>\n",
              "      <td>2</td>\n",
              "      <td>...</td>\n",
              "      <td>192</td>\n",
              "      <td>84</td>\n",
              "      <td>0</td>\n",
              "      <td>0</td>\n",
              "      <td>0</td>\n",
              "      <td>0</td>\n",
              "      <td>0</td>\n",
              "      <td>12</td>\n",
              "      <td>2008</td>\n",
              "      <td>250000</td>\n",
              "    </tr>\n",
              "  </tbody>\n",
              "</table>\n",
              "<p>5 rows × 77 columns</p>\n",
              "</div>\n",
              "      <button class=\"colab-df-convert\" onclick=\"convertToInteractive('df-1dd45929-4005-4ecb-a732-a395f31454e7')\"\n",
              "              title=\"Convert this dataframe to an interactive table.\"\n",
              "              style=\"display:none;\">\n",
              "        \n",
              "  <svg xmlns=\"http://www.w3.org/2000/svg\" height=\"24px\"viewBox=\"0 0 24 24\"\n",
              "       width=\"24px\">\n",
              "    <path d=\"M0 0h24v24H0V0z\" fill=\"none\"/>\n",
              "    <path d=\"M18.56 5.44l.94 2.06.94-2.06 2.06-.94-2.06-.94-.94-2.06-.94 2.06-2.06.94zm-11 1L8.5 8.5l.94-2.06 2.06-.94-2.06-.94L8.5 2.5l-.94 2.06-2.06.94zm10 10l.94 2.06.94-2.06 2.06-.94-2.06-.94-.94-2.06-.94 2.06-2.06.94z\"/><path d=\"M17.41 7.96l-1.37-1.37c-.4-.4-.92-.59-1.43-.59-.52 0-1.04.2-1.43.59L10.3 9.45l-7.72 7.72c-.78.78-.78 2.05 0 2.83L4 21.41c.39.39.9.59 1.41.59.51 0 1.02-.2 1.41-.59l7.78-7.78 2.81-2.81c.8-.78.8-2.07 0-2.86zM5.41 20L4 18.59l7.72-7.72 1.47 1.35L5.41 20z\"/>\n",
              "  </svg>\n",
              "      </button>\n",
              "      \n",
              "  <style>\n",
              "    .colab-df-container {\n",
              "      display:flex;\n",
              "      flex-wrap:wrap;\n",
              "      gap: 12px;\n",
              "    }\n",
              "\n",
              "    .colab-df-convert {\n",
              "      background-color: #E8F0FE;\n",
              "      border: none;\n",
              "      border-radius: 50%;\n",
              "      cursor: pointer;\n",
              "      display: none;\n",
              "      fill: #1967D2;\n",
              "      height: 32px;\n",
              "      padding: 0 0 0 0;\n",
              "      width: 32px;\n",
              "    }\n",
              "\n",
              "    .colab-df-convert:hover {\n",
              "      background-color: #E2EBFA;\n",
              "      box-shadow: 0px 1px 2px rgba(60, 64, 67, 0.3), 0px 1px 3px 1px rgba(60, 64, 67, 0.15);\n",
              "      fill: #174EA6;\n",
              "    }\n",
              "\n",
              "    [theme=dark] .colab-df-convert {\n",
              "      background-color: #3B4455;\n",
              "      fill: #D2E3FC;\n",
              "    }\n",
              "\n",
              "    [theme=dark] .colab-df-convert:hover {\n",
              "      background-color: #434B5C;\n",
              "      box-shadow: 0px 1px 3px 1px rgba(0, 0, 0, 0.15);\n",
              "      filter: drop-shadow(0px 1px 2px rgba(0, 0, 0, 0.3));\n",
              "      fill: #FFFFFF;\n",
              "    }\n",
              "  </style>\n",
              "\n",
              "      <script>\n",
              "        const buttonEl =\n",
              "          document.querySelector('#df-1dd45929-4005-4ecb-a732-a395f31454e7 button.colab-df-convert');\n",
              "        buttonEl.style.display =\n",
              "          google.colab.kernel.accessAllowed ? 'block' : 'none';\n",
              "\n",
              "        async function convertToInteractive(key) {\n",
              "          const element = document.querySelector('#df-1dd45929-4005-4ecb-a732-a395f31454e7');\n",
              "          const dataTable =\n",
              "            await google.colab.kernel.invokeFunction('convertToInteractive',\n",
              "                                                     [key], {});\n",
              "          if (!dataTable) return;\n",
              "\n",
              "          const docLinkHtml = 'Like what you see? Visit the ' +\n",
              "            '<a target=\"_blank\" href=https://colab.research.google.com/notebooks/data_table.ipynb>data table notebook</a>'\n",
              "            + ' to learn more about interactive tables.';\n",
              "          element.innerHTML = '';\n",
              "          dataTable['output_type'] = 'display_data';\n",
              "          await google.colab.output.renderOutput(dataTable, element);\n",
              "          const docLink = document.createElement('div');\n",
              "          docLink.innerHTML = docLinkHtml;\n",
              "          element.appendChild(docLink);\n",
              "        }\n",
              "      </script>\n",
              "    </div>\n",
              "  </div>\n",
              "  "
            ]
          },
          "metadata": {},
          "execution_count": 9
        }
      ]
    },
    {
      "cell_type": "code",
      "source": [
        "Id_column = df.pop('Id')"
      ],
      "metadata": {
        "id": "P3Luaqny5v8S"
      },
      "execution_count": 10,
      "outputs": []
    },
    {
      "cell_type": "code",
      "source": [
        "df.shape"
      ],
      "metadata": {
        "colab": {
          "base_uri": "https://localhost:8080/"
        },
        "id": "dzKce7_050EW",
        "outputId": "0691f9ec-d667-48a6-87c2-b7a33d33cf83"
      },
      "execution_count": 11,
      "outputs": [
        {
          "output_type": "execute_result",
          "data": {
            "text/plain": [
              "(1460, 76)"
            ]
          },
          "metadata": {},
          "execution_count": 11
        }
      ]
    },
    {
      "cell_type": "code",
      "source": [
        "#Seperating features and labels\n",
        "X = df.iloc[:, :75].values\n",
        "y = df.iloc[:, -1].values"
      ],
      "metadata": {
        "id": "1aQ-RKYx6Hfc"
      },
      "execution_count": 12,
      "outputs": []
    },
    {
      "cell_type": "code",
      "source": [
        "import tensorflow as tf\n",
        "\n",
        "from tensorflow import keras\n",
        "from tensorflow.keras import layers\n",
        "\n",
        "print(tf.__version__)"
      ],
      "metadata": {
        "colab": {
          "base_uri": "https://localhost:8080/"
        },
        "id": "xy9n5dHr8-3h",
        "outputId": "4b640d34-5fd7-4b06-814c-1a397179c6f5"
      },
      "execution_count": 13,
      "outputs": [
        {
          "output_type": "stream",
          "name": "stdout",
          "text": [
            "2.8.0\n"
          ]
        }
      ]
    },
    {
      "cell_type": "code",
      "source": [
        "import matplotlib.pyplot as plt\n",
        "import numpy as np\n",
        "import pandas as pd\n",
        "import seaborn as sns\n",
        "\n",
        "# Make NumPy printouts easier to read.\n",
        "np.set_printoptions(precision=3, suppress=True)"
      ],
      "metadata": {
        "id": "ndyK35ab9Bs1"
      },
      "execution_count": 14,
      "outputs": []
    },
    {
      "cell_type": "code",
      "source": [
        "#Splittilng the data set into training and test \n",
        "from sklearn.model_selection import train_test_split\n",
        "X_train, X_test, y_train, y_test = train_test_split(X, y, test_size=0.20, shuffle=False)"
      ],
      "metadata": {
        "id": "rZqimADE9Dp8"
      },
      "execution_count": 15,
      "outputs": []
    },
    {
      "cell_type": "markdown",
      "source": [
        "#Model 1"
      ],
      "metadata": {
        "id": "rRjDBMPMItTe"
      }
    },
    {
      "cell_type": "code",
      "source": [
        "normalizer = tf.keras.layers.Normalization(axis=-1)"
      ],
      "metadata": {
        "id": "ta4yHCZ99JZn"
      },
      "execution_count": 16,
      "outputs": []
    },
    {
      "cell_type": "code",
      "source": [
        "normalizer.adapt(np.array(X_train))"
      ],
      "metadata": {
        "id": "qSUE22Nr9i5k"
      },
      "execution_count": 17,
      "outputs": []
    },
    {
      "cell_type": "code",
      "source": [
        "model_1 = tf.keras.models.Sequential([\n",
        "                                      normalizer,\n",
        "                                      tf.keras.layers.Dense(1, activation=\"ReLU\")\n",
        "])"
      ],
      "metadata": {
        "id": "MtVhQHGY9k34"
      },
      "execution_count": 37,
      "outputs": []
    },
    {
      "cell_type": "code",
      "source": [
        "model_1.compile(loss=\"mean_absolute_error\",\n",
        "                optimizer=tf.keras.optimizers.Adam())"
      ],
      "metadata": {
        "id": "JEXi73pX9qUi"
      },
      "execution_count": 38,
      "outputs": []
    },
    {
      "cell_type": "code",
      "source": [
        "model_1.summary()"
      ],
      "metadata": {
        "colab": {
          "base_uri": "https://localhost:8080/"
        },
        "id": "_6IUSXB8AAmn",
        "outputId": "0f7ff4e8-c102-42e5-b688-740466592a6f"
      },
      "execution_count": 39,
      "outputs": [
        {
          "output_type": "stream",
          "name": "stdout",
          "text": [
            "Model: \"sequential_9\"\n",
            "_________________________________________________________________\n",
            " Layer (type)                Output Shape              Param #   \n",
            "=================================================================\n",
            " normalization (Normalizatio  (None, 75)               151       \n",
            " n)                                                              \n",
            "                                                                 \n",
            " dense_35 (Dense)            (None, 1)                 76        \n",
            "                                                                 \n",
            "=================================================================\n",
            "Total params: 227\n",
            "Trainable params: 76\n",
            "Non-trainable params: 151\n",
            "_________________________________________________________________\n"
          ]
        }
      ]
    },
    {
      "cell_type": "code",
      "source": [
        "history_1 = model_1.fit(\n",
        "    X_train,\n",
        "    y_train,\n",
        "    epochs=100,\n",
        "    # Suppress logging using verbose=0 else don't use it at all.\n",
        "    verbose=0,\n",
        "    validation_split = 0.2\n",
        ")"
      ],
      "metadata": {
        "id": "QeaRPKY59sAe"
      },
      "execution_count": 40,
      "outputs": []
    },
    {
      "cell_type": "code",
      "source": [
        "y_pred_model_1 = model_1.predict(X_test).flatten()"
      ],
      "metadata": {
        "id": "W5TQe7PDAyLn"
      },
      "execution_count": 41,
      "outputs": []
    },
    {
      "cell_type": "code",
      "source": [
        "from sklearn.metrics import mean_absolute_error\n",
        "  \n",
        "# Calculation of Mean Squared Error (MSE)\n",
        "model_1_mae = mean_absolute_error(y_test,y_pred_model_1)"
      ],
      "metadata": {
        "id": "sgEAqpqjBENh"
      },
      "execution_count": 42,
      "outputs": []
    },
    {
      "cell_type": "code",
      "source": [
        "print(\"The mean absolute error of our Model 1 with only 1 hidden layer is: {:.2f}\".format(model_1_mae))"
      ],
      "metadata": {
        "colab": {
          "base_uri": "https://localhost:8080/"
        },
        "id": "HpR4pcCL_v0L",
        "outputId": "fb7218b8-85d8-4038-a0ba-eb06d10b2797"
      },
      "execution_count": 43,
      "outputs": [
        {
          "output_type": "stream",
          "name": "stdout",
          "text": [
            "The mean absolute error of our Model 1 with only 1 hidden layer is: 182219.77\n"
          ]
        }
      ]
    },
    {
      "cell_type": "markdown",
      "source": [
        "#Model 2"
      ],
      "metadata": {
        "id": "dgWZJ9fzB9En"
      }
    },
    {
      "cell_type": "code",
      "source": [
        "model_2 = tf.keras.models.Sequential([\n",
        "                                      normalizer,\n",
        "                                      tf.keras.layers.Dense(64, activation=\"ReLU\"),\n",
        "                                      tf.keras.layers.Dense(64, activation=\"ReLU\"),\n",
        "                                      tf.keras.layers.Dense(1)\n",
        "])"
      ],
      "metadata": {
        "id": "0LGO8bC8BwPP"
      },
      "execution_count": 18,
      "outputs": []
    },
    {
      "cell_type": "code",
      "source": [
        "model_2.compile(loss=\"mean_absolute_error\",\n",
        "                optimizer=tf.keras.optimizers.Adam(0.001))"
      ],
      "metadata": {
        "id": "Fxm3Yl2RFAl0"
      },
      "execution_count": 19,
      "outputs": []
    },
    {
      "cell_type": "code",
      "source": [
        "model_2.summary()"
      ],
      "metadata": {
        "colab": {
          "base_uri": "https://localhost:8080/"
        },
        "id": "WXy0vHoCFKL5",
        "outputId": "ee729118-17e0-4c34-f6dc-3fad22009fab"
      },
      "execution_count": 20,
      "outputs": [
        {
          "output_type": "stream",
          "name": "stdout",
          "text": [
            "Model: \"sequential\"\n",
            "_________________________________________________________________\n",
            " Layer (type)                Output Shape              Param #   \n",
            "=================================================================\n",
            " normalization (Normalizatio  (None, 75)               151       \n",
            " n)                                                              \n",
            "                                                                 \n",
            " dense (Dense)               (None, 64)                4864      \n",
            "                                                                 \n",
            " dense_1 (Dense)             (None, 64)                4160      \n",
            "                                                                 \n",
            " dense_2 (Dense)             (None, 1)                 65        \n",
            "                                                                 \n",
            "=================================================================\n",
            "Total params: 9,240\n",
            "Trainable params: 9,089\n",
            "Non-trainable params: 151\n",
            "_________________________________________________________________\n"
          ]
        }
      ]
    },
    {
      "cell_type": "code",
      "source": [
        "# Plot hybrid token and character model\n",
        "from tensorflow.keras.utils import plot_model\n",
        "plot_model(model_2)"
      ],
      "metadata": {
        "colab": {
          "base_uri": "https://localhost:8080/",
          "height": 466
        },
        "id": "BGqk-5gKFLcy",
        "outputId": "3ae91bb9-ec2d-4774-c649-3fc6de79d26c"
      },
      "execution_count": 21,
      "outputs": [
        {
          "output_type": "execute_result",
          "data": {
            "text/plain": [
              "<IPython.core.display.Image object>"
            ],
            "image/png": "[encoded data removed]"
          },
          "metadata": {},
          "execution_count": 21
        }
      ]
    },
    {
      "cell_type": "code",
      "source": [
        "history_2 = model_2.fit(\n",
        "    X_train,\n",
        "    y_train,\n",
        "    epochs=100,\n",
        "    # Suppress logging using verbose=0 else don't use it at all.\n",
        "    verbose=0,\n",
        "    validation_split = 0.2\n",
        ")"
      ],
      "metadata": {
        "id": "OOkvLQMBFZtI"
      },
      "execution_count": 22,
      "outputs": []
    },
    {
      "cell_type": "code",
      "source": [
        "y_pred_model_2 = model_2.predict(X_test).flatten()"
      ],
      "metadata": {
        "id": "6wb3YvtRFn6f"
      },
      "execution_count": 23,
      "outputs": []
    },
    {
      "cell_type": "code",
      "source": [
        "from sklearn.metrics import mean_absolute_error\n",
        "\n",
        "model_2_mae = mean_absolute_error(y_test, y_pred_model_2)"
      ],
      "metadata": {
        "id": "x4SjUjmhFuak"
      },
      "execution_count": 25,
      "outputs": []
    },
    {
      "cell_type": "code",
      "source": [
        "print(\"The mean absolute error of our Model 2 with only 3 hidden layers is: {:.2f}\".format(model_2_mae))"
      ],
      "metadata": {
        "colab": {
          "base_uri": "https://localhost:8080/"
        },
        "id": "CfATiRkBBOau",
        "outputId": "a0f2b852-e38a-405f-d27b-d69a392faa1d"
      },
      "execution_count": 26,
      "outputs": [
        {
          "output_type": "stream",
          "name": "stdout",
          "text": [
            "The mean absolute error of our Model 2 with only 3 hidden layers is: 41176.75\n"
          ]
        }
      ]
    },
    {
      "cell_type": "markdown",
      "source": [
        "# Model 3"
      ],
      "metadata": {
        "id": "TfvOCZDMGN4b"
      }
    },
    {
      "cell_type": "code",
      "source": [
        "# Set random seed\n",
        "tf.random.set_seed(42)\n",
        "\n",
        "# Create a model using the Sequential API\n",
        "model_3 = tf.keras.Sequential([\n",
        "  tf.keras.layers.Dense(1)\n",
        "])\n",
        "\n",
        "# Compile the model\n",
        "model_3.compile(loss=tf.keras.losses.mae, # mae is short for mean absolute error\n",
        "              optimizer=tf.keras.optimizers.SGD(), # SGD is short for stochastic gradient descent\n",
        "              metrics=[\"mae\"])\n",
        "\n",
        "# Fit the model\n",
        "history_3 = model_3.fit(X_train,\n",
        "            y_train,\n",
        "            epochs=100,\n",
        "            verbose=0,\n",
        "            validation_split=0.2)"
      ],
      "metadata": {
        "id": "bRPrgFCRGfAg"
      },
      "execution_count": 44,
      "outputs": []
    },
    {
      "cell_type": "code",
      "source": [
        "y_pred_model_3 = model_3.predict(X_test).flatten()"
      ],
      "metadata": {
        "id": "DGdIG6YTIX9E"
      },
      "execution_count": 45,
      "outputs": []
    },
    {
      "cell_type": "code",
      "source": [
        "model_3_mae = mean_absolute_error(y_test, y_pred_model_3)"
      ],
      "metadata": {
        "id": "e32wlidyIfZe"
      },
      "execution_count": 46,
      "outputs": []
    },
    {
      "cell_type": "code",
      "source": [
        "print(\"The mean absolute error of our Model 3 with 1 hidden layer is: {:.2f}\".format(model_3_mae))"
      ],
      "metadata": {
        "colab": {
          "base_uri": "https://localhost:8080/"
        },
        "id": "S-WlMLm6BhF3",
        "outputId": "6f488846-5787-4c87-f924-e89bdffdd912"
      },
      "execution_count": 47,
      "outputs": [
        {
          "output_type": "stream",
          "name": "stdout",
          "text": [
            "The mean absolute error of our Model 3 with 1 hidden layer is: 787352.38\n"
          ]
        }
      ]
    },
    {
      "cell_type": "markdown",
      "source": [
        "#Model 4"
      ],
      "metadata": {
        "id": "PPqxYYi2ImsH"
      }
    },
    {
      "cell_type": "code",
      "source": [
        "# Set random seed\n",
        "tf.random.set_seed(42)\n",
        "\n",
        "# Build the model (3 layers, 100, 10, 1 units)\n",
        "model_4 = tf.keras.Sequential([\n",
        "                               normalizer,\n",
        "  tf.keras.layers.Dense(100),\n",
        "  tf.keras.layers.Dense(10),\n",
        "  tf.keras.layers.Dense(1)\n",
        "])\n",
        "\n",
        "# Compile the model\n",
        "model_4.compile(loss=tf.keras.losses.mae,\n",
        "                          optimizer=tf.keras.optimizers.Adam(),\n",
        "                          metrics=['mae'])\n",
        "\n",
        "# Fit the model for 200 epochs (same as insurance_model_2)\n",
        "history_4 = model_4.fit(X_train, y_train, epochs=200, verbose=0) "
      ],
      "metadata": {
        "id": "Vy7s-4JKKN3r"
      },
      "execution_count": 48,
      "outputs": []
    },
    {
      "cell_type": "code",
      "source": [
        "y_pred_model_4 = model_3.predict(X_test).flatten()"
      ],
      "metadata": {
        "id": "IdNYQwG-KjdY"
      },
      "execution_count": 49,
      "outputs": []
    },
    {
      "cell_type": "code",
      "source": [
        "model_4_mae = mean_absolute_error(y_test, y_pred_model_4)"
      ],
      "metadata": {
        "id": "eD3hvRc4KoNX"
      },
      "execution_count": 50,
      "outputs": []
    },
    {
      "cell_type": "code",
      "source": [
        "print(\"The mean absolute error of our Model 4 with 3 hidden layer is: {:.2f}\".format(model_4_mae))"
      ],
      "metadata": {
        "id": "ZSF5Uyg9Kq_B",
        "colab": {
          "base_uri": "https://localhost:8080/"
        },
        "outputId": "020da34c-bbc8-41d7-9d66-ada0b3efefdc"
      },
      "execution_count": 51,
      "outputs": [
        {
          "output_type": "stream",
          "name": "stdout",
          "text": [
            "The mean absolute error of our Model 4 with 3 hidden layer is: 787352.38\n"
          ]
        }
      ]
    },
    {
      "cell_type": "markdown",
      "source": [
        "# Plotting and evaluating all 4 models."
      ],
      "metadata": {
        "id": "sxsfnfIJDCvx"
      }
    },
    {
      "cell_type": "code",
      "source": [
        "#Model_1\n",
        "pd.DataFrame(history_1.history).plot()\n",
        "plt.ylabel(\"loss\")\n",
        "plt.xlabel(\"epochs\")"
      ],
      "metadata": {
        "colab": {
          "base_uri": "https://localhost:8080/",
          "height": 297
        },
        "id": "3ULLKl8pCV-2",
        "outputId": "d3060260-850d-4653-aae0-dec08673a10e"
      },
      "execution_count": null,
      "outputs": [
        {
          "output_type": "execute_result",
          "data": {
            "text/plain": [
              "Text(0.5, 0, 'epochs')"
            ]
          },
          "metadata": {},
          "execution_count": 85
        },
        {
          "output_type": "display_data",
          "data": {
            "text/plain": [
              "<Figure size 432x288 with 1 Axes>"
            ],
            "image/png": "[encoded data removed]"
          },
          "metadata": {
            "needs_background": "light"
          }
        }
      ]
    },
    {
      "cell_type": "code",
      "source": [
        "#Model_2\n",
        "pd.DataFrame(history_2.history).plot()\n",
        "plt.ylabel(\"loss\")\n",
        "plt.xlabel(\"epochs\")"
      ],
      "metadata": {
        "colab": {
          "base_uri": "https://localhost:8080/",
          "height": 297
        },
        "id": "bCYTCszmDPJN",
        "outputId": "12c9adc7-9945-492c-95d1-78a2353cc9df"
      },
      "execution_count": null,
      "outputs": [
        {
          "output_type": "execute_result",
          "data": {
            "text/plain": [
              "Text(0.5, 0, 'epochs')"
            ]
          },
          "metadata": {},
          "execution_count": 86
        },
        {
          "output_type": "display_data",
          "data": {
            "text/plain": [
              "<Figure size 432x288 with 1 Axes>"
            ],
            "image/png": "[encoded data removed]"
          },
          "metadata": {
            "needs_background": "light"
          }
        }
      ]
    },
    {
      "cell_type": "code",
      "source": [
        "#Model_3\n",
        "pd.DataFrame(history_3.history).plot()\n",
        "plt.ylabel(\"loss\")\n",
        "plt.xlabel(\"epochs\")"
      ],
      "metadata": {
        "colab": {
          "base_uri": "https://localhost:8080/",
          "height": 308
        },
        "id": "8ctbCL-DDTE-",
        "outputId": "3abf1802-c9ba-4295-df47-9efe9ce5e6df"
      },
      "execution_count": null,
      "outputs": [
        {
          "output_type": "execute_result",
          "data": {
            "text/plain": [
              "Text(0.5, 0, 'epochs')"
            ]
          },
          "metadata": {},
          "execution_count": 87
        },
        {
          "output_type": "display_data",
          "data": {
            "text/plain": [
              "<Figure size 432x288 with 1 Axes>"
            ],
            "image/png": "[encoded data removed]"
          },
          "metadata": {
            "needs_background": "light"
          }
        }
      ]
    },
    {
      "cell_type": "code",
      "source": [
        "#Model_4\n",
        "pd.DataFrame(history_4.history).plot()\n",
        "plt.ylabel(\"loss\")\n",
        "plt.xlabel(\"epochs\")"
      ],
      "metadata": {
        "colab": {
          "base_uri": "https://localhost:8080/",
          "height": 297
        },
        "id": "1W9Ar9olDVxN",
        "outputId": "d1d244f3-62af-4c24-d860-1c8ab33ec07f"
      },
      "execution_count": null,
      "outputs": [
        {
          "output_type": "execute_result",
          "data": {
            "text/plain": [
              "Text(0.5, 0, 'epochs')"
            ]
          },
          "metadata": {},
          "execution_count": 93
        },
        {
          "output_type": "display_data",
          "data": {
            "text/plain": [
              "<Figure size 432x288 with 1 Axes>"
            ],
            "image/png": "[encoded data removed]"
          },
          "metadata": {
            "needs_background": "light"
          }
        }
      ]
    },
    {
      "cell_type": "code",
      "source": [
        "model_1_mae,model_2_mae, model_3_mae, model_4_mae"
      ],
      "metadata": {
        "colab": {
          "base_uri": "https://localhost:8080/"
        },
        "id": "C94pAoFbEWfg",
        "outputId": "d109464b-db6a-48b3-e91c-4b4dce476d67"
      },
      "execution_count": null,
      "outputs": [
        {
          "output_type": "execute_result",
          "data": {
            "text/plain": [
              "(182219.93434674936, 40414.54086345516, 787352.3796018836, 787352.3796018836)"
            ]
          },
          "metadata": {},
          "execution_count": 101
        }
      ]
    },
    {
      "cell_type": "markdown",
      "source": [
        "**So our model_2 performed the best and came relatively close to the mae of our linear regression model we used in the previous notebook, in the next module we will try to tweak that model and try if we can achieve better results.**"
      ],
      "metadata": {
        "id": "LB0pZ7AwGkEJ"
      }
    },
    {
      "cell_type": "markdown",
      "source": [
        "# Tweaking our best model yet."
      ],
      "metadata": {
        "id": "zTYVgP2EG22G"
      }
    },
    {
      "cell_type": "code",
      "source": [
        "# We will try a model with one extra layer, reduce the learning rate and train for longer.\n",
        "\n",
        "model_5 = tf.keras.models.Sequential([\n",
        "                                      normalizer,\n",
        "                                      tf.keras.layers.Dense(64, activation=\"ReLU\"),\n",
        "                                      tf.keras.layers.Dense(64, activation=\"ReLU\"),\n",
        "                                      tf.keras.layers.Dense(64, activation=\"ReLU\"),\n",
        "                                      tf.keras.layers.Dense(1)\n",
        "])\n",
        "\n",
        "model_5.compile(loss=\"mean_absolute_error\",\n",
        "                optimizer=tf.keras.optimizers.Adam(0.0001))\n",
        "\n",
        "history_5 = model_5.fit(\n",
        "    X_train,\n",
        "    y_train,\n",
        "    epochs=1000,\n",
        "    verbose=0,\n",
        "    validation_split = 0.2\n",
        ")\n",
        "\n",
        "y_pred_model_5 = model_5.predict(X_test).flatten()\n",
        "\n",
        "model_5_mae = mean_absolute_error(y_test, y_pred_model_5)\n",
        "\n",
        "print(\"The mean absolute error of our Model 5 is: {:.2f}\".format(model_5_mae))"
      ],
      "metadata": {
        "colab": {
          "base_uri": "https://localhost:8080/"
        },
        "id": "UdBddQbbG5or",
        "outputId": "076f6327-ab28-459c-cf8b-e22e57c924f6"
      },
      "execution_count": 27,
      "outputs": [
        {
          "output_type": "stream",
          "name": "stdout",
          "text": [
            "The mean absolute error of our Model 5 is: 24539.54\n"
          ]
        }
      ]
    },
    {
      "cell_type": "markdown",
      "source": [
        "Wohoo we are close, let's see if reducing the learning rate alone can get us where we want to be and keep the epochs to 200 as the model 2."
      ],
      "metadata": {
        "id": "CfP0BTI8IWfJ"
      }
    },
    {
      "cell_type": "code",
      "source": [
        "# We will try a model with reduced learning rate\n",
        "model_6 = tf.keras.models.Sequential([\n",
        "                                      normalizer,\n",
        "                                      tf.keras.layers.Dense(64, activation=\"ReLU\"),\n",
        "                                      tf.keras.layers.Dense(64, activation=\"ReLU\"),\n",
        "                                      tf.keras.layers.Dense(64, activation=\"ReLU\"),\n",
        "                                      tf.keras.layers.Dense(1)\n",
        "])\n",
        "\n",
        "model_6.compile(loss=\"mean_absolute_error\",\n",
        "                optimizer=tf.keras.optimizers.Adam(0.0001))\n",
        "\n",
        "history_6 = model_6.fit(\n",
        "    X_train,\n",
        "    y_train,\n",
        "    epochs=200,\n",
        "    verbose=0,\n",
        "    validation_split = 0.2\n",
        ")\n",
        "\n",
        "y_pred_model_6 = model_6.predict(X_test).flatten()\n",
        "\n",
        "model_6_mae = mean_absolute_error(y_test, y_pred_model_6)\n",
        "\n",
        "print(\"The mean absolute error of our Model 6 is: {:.2f}\".format(model_6_mae))"
      ],
      "metadata": {
        "colab": {
          "base_uri": "https://localhost:8080/"
        },
        "id": "O6scWu1SH8-Q",
        "outputId": "7fe0e3d7-8de5-450f-98ac-e236ef344e41"
      },
      "execution_count": 29,
      "outputs": [
        {
          "output_type": "stream",
          "name": "stdout",
          "text": [
            "The mean absolute error of our Model 6 is: 47251.68\n"
          ]
        }
      ]
    },
    {
      "cell_type": "markdown",
      "source": [
        "Reucing the learning rate didn't help us much, how about increasing it?"
      ],
      "metadata": {
        "id": "FzDUUv2sI55C"
      }
    },
    {
      "cell_type": "code",
      "source": [
        "# We will try a model with increased learning rate\n",
        "model_7 = tf.keras.models.Sequential([\n",
        "                                      normalizer,\n",
        "                                      tf.keras.layers.Dense(64, activation=\"ReLU\"),\n",
        "                                      tf.keras.layers.Dense(64, activation=\"ReLU\"),\n",
        "                                      tf.keras.layers.Dense(64, activation=\"ReLU\"),\n",
        "                                      tf.keras.layers.Dense(1)\n",
        "])\n",
        "\n",
        "model_7.compile(loss=\"mean_absolute_error\",\n",
        "                optimizer=tf.keras.optimizers.Adam(0.1))\n",
        "\n",
        "history_7 = model_7.fit(\n",
        "    X_train,\n",
        "    y_train,\n",
        "    epochs=200,\n",
        "    verbose=0,\n",
        "    validation_split = 0.2\n",
        ")\n",
        "\n",
        "y_pred_model_7 = model_7.predict(X_test).flatten()\n",
        "\n",
        "model_7_mae = mean_absolute_error(y_test, y_pred_model_7)\n",
        "\n",
        "print(\"The mean absolute error of our Model 7 is: {:.2f}\".format(model_7_mae))"
      ],
      "metadata": {
        "colab": {
          "base_uri": "https://localhost:8080/"
        },
        "id": "7Q0XS38_Imtt",
        "outputId": "1b1e3832-0098-4948-8e4d-3576f908c2f1"
      },
      "execution_count": 30,
      "outputs": [
        {
          "output_type": "stream",
          "name": "stdout",
          "text": [
            "The mean absolute error of our Model 7 is: 24445.57\n"
          ]
        }
      ]
    },
    {
      "cell_type": "markdown",
      "source": [
        "Alright seems like increasing it helped us, how about increasing it further?"
      ],
      "metadata": {
        "id": "PK3sjfsHJTDh"
      }
    },
    {
      "cell_type": "code",
      "source": [
        "# We will try a model with increased learning rate\n",
        "model_8 = tf.keras.models.Sequential([\n",
        "                                      normalizer,\n",
        "                                      tf.keras.layers.Dense(64, activation=\"ReLU\"),\n",
        "                                      tf.keras.layers.Dense(64, activation=\"ReLU\"),\n",
        "                                      tf.keras.layers.Dense(64, activation=\"ReLU\"),\n",
        "                                      tf.keras.layers.Dense(1)\n",
        "])\n",
        "\n",
        "model_8.compile(loss=\"mean_absolute_error\",\n",
        "                optimizer=tf.keras.optimizers.Adam(1))\n",
        "\n",
        "history_8 = model_8.fit(\n",
        "    X_train,\n",
        "    y_train,\n",
        "    epochs=200,\n",
        "    verbose=0,\n",
        "    validation_split = 0.2\n",
        ")\n",
        "\n",
        "y_pred_model_8 = model_8.predict(X_test).flatten()\n",
        "\n",
        "model_8_mae = mean_absolute_error(y_test, y_pred_model_8)\n",
        "\n",
        "print(\"The mean absolute error of our Model 8 is: {:.2f}\".format(model_8_mae))"
      ],
      "metadata": {
        "colab": {
          "base_uri": "https://localhost:8080/"
        },
        "id": "hteGs1gjJJIu",
        "outputId": "575a9c17-59e3-4626-d34b-a2968ce3f26a"
      },
      "execution_count": 31,
      "outputs": [
        {
          "output_type": "stream",
          "name": "stdout",
          "text": [
            "The mean absolute error of our Model 8 is: 55338.33\n"
          ]
        }
      ]
    },
    {
      "cell_type": "markdown",
      "source": [
        "Ok that's weird, let's train our model 7 for longer shall we?"
      ],
      "metadata": {
        "id": "DWwgq6fPJqX7"
      }
    },
    {
      "cell_type": "code",
      "source": [
        "# We will try a model with increased learning rate\n",
        "model_9 = tf.keras.models.Sequential([\n",
        "                                      normalizer,\n",
        "                                      tf.keras.layers.Dense(64, activation=\"ReLU\"),\n",
        "                                      tf.keras.layers.Dense(64, activation=\"ReLU\"),\n",
        "                                      tf.keras.layers.Dense(64, activation=\"ReLU\"),\n",
        "                                      tf.keras.layers.Dense(1)\n",
        "])\n",
        "\n",
        "model_9.compile(loss=\"mean_absolute_error\",\n",
        "                optimizer=tf.keras.optimizers.Adam(0.1))\n",
        "\n",
        "history_9 = model_9.fit(\n",
        "    X_train,\n",
        "    y_train,\n",
        "    epochs=1200,\n",
        "    verbose=0,\n",
        "    validation_split = 0.2\n",
        ")\n",
        "\n",
        "y_pred_model_9 = model_9.predict(X_test).flatten()\n",
        "\n",
        "model_9_mae = mean_absolute_error(y_test, y_pred_model_9)\n",
        "\n",
        "print(\"The mean absolute error of our Model 9 is: {:.2f}\".format(model_9_mae))"
      ],
      "metadata": {
        "colab": {
          "base_uri": "https://localhost:8080/"
        },
        "id": "8QWKQ48qJiVY",
        "outputId": "c24dff60-b501-4dd9-86e7-1d145b5650ac"
      },
      "execution_count": 32,
      "outputs": [
        {
          "output_type": "stream",
          "name": "stdout",
          "text": [
            "The mean absolute error of our Model 9 is: 25548.33\n"
          ]
        }
      ]
    },
    {
      "cell_type": "markdown",
      "source": [
        "Well, not much changed, how about taking a big leap and train our model 5 for 2000 epochs?"
      ],
      "metadata": {
        "id": "os4EmaM7KoVA"
      }
    },
    {
      "cell_type": "code",
      "source": [
        "# We will try a model with one extra layer, reduce the learning rate and train for longer.\n",
        "\n",
        "model_10 = tf.keras.models.Sequential([\n",
        "                                      normalizer,\n",
        "                                      tf.keras.layers.Dense(64, activation=\"ReLU\"),\n",
        "                                      tf.keras.layers.Dense(64, activation=\"ReLU\"),\n",
        "                                      tf.keras.layers.Dense(64, activation=\"ReLU\"),\n",
        "                                      tf.keras.layers.Dense(1)\n",
        "])\n",
        "\n",
        "model_10.compile(loss=\"mean_absolute_error\",\n",
        "                optimizer=tf.keras.optimizers.Adam(0.0001))\n",
        "\n",
        "history_10 = model_10.fit(\n",
        "    X_train,\n",
        "    y_train,\n",
        "    epochs=2000,\n",
        "    verbose=0,\n",
        "    validation_split = 0.2\n",
        ")\n",
        "\n",
        "y_pred_model_10 = model_10.predict(X_test).flatten()\n",
        "\n",
        "model_10_mae = mean_absolute_error(y_test, y_pred_model_10)\n",
        "\n",
        "print(\"The mean absolute error of our Model 10 is: {:.2f}\".format(model_10_mae))"
      ],
      "metadata": {
        "colab": {
          "base_uri": "https://localhost:8080/"
        },
        "id": "uLeA_n1tJ9_K",
        "outputId": "6f5e14a9-12db-410b-ff0d-9d9517ce4b4e"
      },
      "execution_count": 33,
      "outputs": [
        {
          "output_type": "stream",
          "name": "stdout",
          "text": [
            "The mean absolute error of our Model 10 is: 21742.39\n"
          ]
        }
      ]
    },
    {
      "cell_type": "markdown",
      "source": [
        "Bravo, our model has come so close to beating the baseline, we will take an even bigger leap and this time train it for 5000 epochs."
      ],
      "metadata": {
        "id": "-cXxaN7MLsMJ"
      }
    },
    {
      "cell_type": "code",
      "source": [
        "# We will try a model with one extra layer, reduce the learning rate and train for longer.\n",
        "%%time\n",
        "model_11 = tf.keras.models.Sequential([\n",
        "                                      normalizer,\n",
        "                                      tf.keras.layers.Dense(64, activation=\"ReLU\"),\n",
        "                                      tf.keras.layers.Dense(64, activation=\"ReLU\"),\n",
        "                                      tf.keras.layers.Dense(64, activation=\"ReLU\"),\n",
        "                                      tf.keras.layers.Dense(1)\n",
        "])\n",
        "\n",
        "model_11.compile(loss=\"mean_absolute_error\",\n",
        "                optimizer=tf.keras.optimizers.Adam(0.0001))\n",
        "\n",
        "history_11 = model_11.fit(\n",
        "    X_train,\n",
        "    y_train,\n",
        "    epochs=5000,\n",
        "    verbose=0,\n",
        "    validation_split = 0.2\n",
        ")\n",
        "\n",
        "y_pred_model_11 = model_11.predict(X_test).flatten()\n",
        "\n",
        "model_11_mae = mean_absolute_error(y_test, y_pred_model_11)\n",
        "\n",
        "print(\"The mean absolute error of our Model 11 is: {:.2f}\".format(model_11_mae))"
      ],
      "metadata": {
        "colab": {
          "base_uri": "https://localhost:8080/"
        },
        "id": "2TD9SakuK9ig",
        "outputId": "a88a0e29-741d-4314-a635-46c5f314af40"
      },
      "execution_count": 34,
      "outputs": [
        {
          "output_type": "stream",
          "name": "stdout",
          "text": [
            "The mean absolute error of our Model 11 is: 21253.50\n",
            "CPU times: user 8min 38s, sys: 32.6 s, total: 9min 11s\n",
            "Wall time: 7min 31s\n"
          ]
        }
      ]
    },
    {
      "cell_type": "markdown",
      "source": [
        "**Alright so our model didn't do much better even tho we trained it for a lot longer. No problem, we did beat our Baseline Scikit Learn model's MAE by around 500.**\n",
        "\n",
        "**Our Scikit Learn Model had an MAE of 21704 and our model 11 of Deep Learning experimentations has an MAE of 21253.**"
      ],
      "metadata": {
        "id": "cT5_7WH7N2L9"
      }
    },
    {
      "cell_type": "code",
      "source": [
        "21704-21253"
      ],
      "metadata": {
        "colab": {
          "base_uri": "https://localhost:8080/"
        },
        "id": "jKcewIlDMB-l",
        "outputId": "5064640c-9aa3-4e50-ed0c-120624ca7aae"
      },
      "execution_count": 35,
      "outputs": [
        {
          "output_type": "execute_result",
          "data": {
            "text/plain": [
              "451"
            ]
          },
          "metadata": {},
          "execution_count": 35
        }
      ]
    },
    {
      "cell_type": "markdown",
      "source": [
        "# Evaluating all our models"
      ],
      "metadata": {
        "id": "7Yg4wYPFSRzo"
      }
    },
    {
      "cell_type": "markdown",
      "source": [
        "**So our deep learning model beat our Baseline by 453. Let's see if any of our other deep learning models beat our baseline or not.**"
      ],
      "metadata": {
        "id": "Mg1r4R_kO03X"
      }
    },
    {
      "cell_type": "code",
      "source": [
        "Model_Scores = {\n",
        "    \"Baseline SkLearn Model MAE\" : 21704,\n",
        "    \"Model_1_mae\" : model_1_mae,\n",
        "    \"Model_2_mae\" : model_2_mae,\n",
        "    \"Model_3_mae\" : model_3_mae,\n",
        "    \"Model_4_mae\" : model_4_mae,\n",
        "    \"Model_5_mae\" : model_5_mae,\n",
        "    \"Model_6_mae\" : model_6_mae,\n",
        "    \"Model_7_mae\" : model_7_mae,\n",
        "    \"Model_8_mae\" : model_8_mae,\n",
        "    \"Model_9_mae\" : model_9_mae,\n",
        "    \"Model_10_mae\" : model_10_mae,\n",
        "    \"Model_11_mae\" : model_11_mae\n",
        "}"
      ],
      "metadata": {
        "id": "jmOWbQcoOz9m"
      },
      "execution_count": 72,
      "outputs": []
    },
    {
      "cell_type": "code",
      "source": [
        "Models = pd.DataFrame(Model_Scores.items())\n",
        "\n",
        "Models"
      ],
      "metadata": {
        "colab": {
          "base_uri": "https://localhost:8080/",
          "height": 426
        },
        "id": "0r5MiCVmQeoH",
        "outputId": "d19067eb-986f-43de-e1d4-e92614d11379"
      },
      "execution_count": 73,
      "outputs": [
        {
          "output_type": "execute_result",
          "data": {
            "text/plain": [
              "                             0              1\n",
              "0   Baseline SkLearn Model MAE   21704.000000\n",
              "1                  Model_1_mae  182219.768498\n",
              "2                  Model_2_mae   41176.750042\n",
              "3                  Model_3_mae  787352.379602\n",
              "4                  Model_4_mae  787352.379602\n",
              "5                  Model_5_mae   24539.544066\n",
              "6                  Model_6_mae   47251.681815\n",
              "7                  Model_7_mae   24445.571811\n",
              "8                  Model_8_mae   55338.329195\n",
              "9                  Model_9_mae   25548.333142\n",
              "10                Model_10_mae   21742.385100\n",
              "11                Model_11_mae   21253.495358"
            ],
            "text/html": [
              "\n",
              "  <div id=\"df-79ee4cc0-c8e4-43cf-a673-dad4338e3e88\">\n",
              "    <div class=\"colab-df-container\">\n",
              "      <div>\n",
              "<style scoped>\n",
              "    .dataframe tbody tr th:only-of-type {\n",
              "        vertical-align: middle;\n",
              "    }\n",
              "\n",
              "    .dataframe tbody tr th {\n",
              "        vertical-align: top;\n",
              "    }\n",
              "\n",
              "    .dataframe thead th {\n",
              "        text-align: right;\n",
              "    }\n",
              "</style>\n",
              "<table border=\"1\" class=\"dataframe\">\n",
              "  <thead>\n",
              "    <tr style=\"text-align: right;\">\n",
              "      <th></th>\n",
              "      <th>0</th>\n",
              "      <th>1</th>\n",
              "    </tr>\n",
              "  </thead>\n",
              "  <tbody>\n",
              "    <tr>\n",
              "      <th>0</th>\n",
              "      <td>Baseline SkLearn Model MAE</td>\n",
              "      <td>21704.000000</td>\n",
              "    </tr>\n",
              "    <tr>\n",
              "      <th>1</th>\n",
              "      <td>Model_1_mae</td>\n",
              "      <td>182219.768498</td>\n",
              "    </tr>\n",
              "    <tr>\n",
              "      <th>2</th>\n",
              "      <td>Model_2_mae</td>\n",
              "      <td>41176.750042</td>\n",
              "    </tr>\n",
              "    <tr>\n",
              "      <th>3</th>\n",
              "      <td>Model_3_mae</td>\n",
              "      <td>787352.379602</td>\n",
              "    </tr>\n",
              "    <tr>\n",
              "      <th>4</th>\n",
              "      <td>Model_4_mae</td>\n",
              "      <td>787352.379602</td>\n",
              "    </tr>\n",
              "    <tr>\n",
              "      <th>5</th>\n",
              "      <td>Model_5_mae</td>\n",
              "      <td>24539.544066</td>\n",
              "    </tr>\n",
              "    <tr>\n",
              "      <th>6</th>\n",
              "      <td>Model_6_mae</td>\n",
              "      <td>47251.681815</td>\n",
              "    </tr>\n",
              "    <tr>\n",
              "      <th>7</th>\n",
              "      <td>Model_7_mae</td>\n",
              "      <td>24445.571811</td>\n",
              "    </tr>\n",
              "    <tr>\n",
              "      <th>8</th>\n",
              "      <td>Model_8_mae</td>\n",
              "      <td>55338.329195</td>\n",
              "    </tr>\n",
              "    <tr>\n",
              "      <th>9</th>\n",
              "      <td>Model_9_mae</td>\n",
              "      <td>25548.333142</td>\n",
              "    </tr>\n",
              "    <tr>\n",
              "      <th>10</th>\n",
              "      <td>Model_10_mae</td>\n",
              "      <td>21742.385100</td>\n",
              "    </tr>\n",
              "    <tr>\n",
              "      <th>11</th>\n",
              "      <td>Model_11_mae</td>\n",
              "      <td>21253.495358</td>\n",
              "    </tr>\n",
              "  </tbody>\n",
              "</table>\n",
              "</div>\n",
              "      <button class=\"colab-df-convert\" onclick=\"convertToInteractive('df-79ee4cc0-c8e4-43cf-a673-dad4338e3e88')\"\n",
              "              title=\"Convert this dataframe to an interactive table.\"\n",
              "              style=\"display:none;\">\n",
              "        \n",
              "  <svg xmlns=\"http://www.w3.org/2000/svg\" height=\"24px\"viewBox=\"0 0 24 24\"\n",
              "       width=\"24px\">\n",
              "    <path d=\"M0 0h24v24H0V0z\" fill=\"none\"/>\n",
              "    <path d=\"M18.56 5.44l.94 2.06.94-2.06 2.06-.94-2.06-.94-.94-2.06-.94 2.06-2.06.94zm-11 1L8.5 8.5l.94-2.06 2.06-.94-2.06-.94L8.5 2.5l-.94 2.06-2.06.94zm10 10l.94 2.06.94-2.06 2.06-.94-2.06-.94-.94-2.06-.94 2.06-2.06.94z\"/><path d=\"M17.41 7.96l-1.37-1.37c-.4-.4-.92-.59-1.43-.59-.52 0-1.04.2-1.43.59L10.3 9.45l-7.72 7.72c-.78.78-.78 2.05 0 2.83L4 21.41c.39.39.9.59 1.41.59.51 0 1.02-.2 1.41-.59l7.78-7.78 2.81-2.81c.8-.78.8-2.07 0-2.86zM5.41 20L4 18.59l7.72-7.72 1.47 1.35L5.41 20z\"/>\n",
              "  </svg>\n",
              "      </button>\n",
              "      \n",
              "  <style>\n",
              "    .colab-df-container {\n",
              "      display:flex;\n",
              "      flex-wrap:wrap;\n",
              "      gap: 12px;\n",
              "    }\n",
              "\n",
              "    .colab-df-convert {\n",
              "      background-color: #E8F0FE;\n",
              "      border: none;\n",
              "      border-radius: 50%;\n",
              "      cursor: pointer;\n",
              "      display: none;\n",
              "      fill: #1967D2;\n",
              "      height: 32px;\n",
              "      padding: 0 0 0 0;\n",
              "      width: 32px;\n",
              "    }\n",
              "\n",
              "    .colab-df-convert:hover {\n",
              "      background-color: #E2EBFA;\n",
              "      box-shadow: 0px 1px 2px rgba(60, 64, 67, 0.3), 0px 1px 3px 1px rgba(60, 64, 67, 0.15);\n",
              "      fill: #174EA6;\n",
              "    }\n",
              "\n",
              "    [theme=dark] .colab-df-convert {\n",
              "      background-color: #3B4455;\n",
              "      fill: #D2E3FC;\n",
              "    }\n",
              "\n",
              "    [theme=dark] .colab-df-convert:hover {\n",
              "      background-color: #434B5C;\n",
              "      box-shadow: 0px 1px 3px 1px rgba(0, 0, 0, 0.15);\n",
              "      filter: drop-shadow(0px 1px 2px rgba(0, 0, 0, 0.3));\n",
              "      fill: #FFFFFF;\n",
              "    }\n",
              "  </style>\n",
              "\n",
              "      <script>\n",
              "        const buttonEl =\n",
              "          document.querySelector('#df-79ee4cc0-c8e4-43cf-a673-dad4338e3e88 button.colab-df-convert');\n",
              "        buttonEl.style.display =\n",
              "          google.colab.kernel.accessAllowed ? 'block' : 'none';\n",
              "\n",
              "        async function convertToInteractive(key) {\n",
              "          const element = document.querySelector('#df-79ee4cc0-c8e4-43cf-a673-dad4338e3e88');\n",
              "          const dataTable =\n",
              "            await google.colab.kernel.invokeFunction('convertToInteractive',\n",
              "                                                     [key], {});\n",
              "          if (!dataTable) return;\n",
              "\n",
              "          const docLinkHtml = 'Like what you see? Visit the ' +\n",
              "            '<a target=\"_blank\" href=https://colab.research.google.com/notebooks/data_table.ipynb>data table notebook</a>'\n",
              "            + ' to learn more about interactive tables.';\n",
              "          element.innerHTML = '';\n",
              "          dataTable['output_type'] = 'display_data';\n",
              "          await google.colab.output.renderOutput(dataTable, element);\n",
              "          const docLink = document.createElement('div');\n",
              "          docLink.innerHTML = docLinkHtml;\n",
              "          element.appendChild(docLink);\n",
              "        }\n",
              "      </script>\n",
              "    </div>\n",
              "  </div>\n",
              "  "
            ]
          },
          "metadata": {},
          "execution_count": 73
        }
      ]
    },
    {
      "cell_type": "code",
      "source": [
        "#Check if any value is lesser than our baseline result.\n",
        "for values in Models[1]:\n",
        "    if values<21704:\n",
        "        print(values)"
      ],
      "metadata": {
        "colab": {
          "base_uri": "https://localhost:8080/"
        },
        "id": "JDwxqTXHQ3Nf",
        "outputId": "ac46b822-63ce-4760-c66a-244d56cb2859"
      },
      "execution_count": 76,
      "outputs": [
        {
          "output_type": "stream",
          "name": "stdout",
          "text": [
            "21253.49535798373\n"
          ]
        }
      ]
    },
    {
      "cell_type": "code",
      "source": [
        "#CHeck the model name\n",
        "Models.loc[Models[1] <21704]"
      ],
      "metadata": {
        "colab": {
          "base_uri": "https://localhost:8080/",
          "height": 81
        },
        "id": "8fILyDW1RQiw",
        "outputId": "a7eec36f-80bb-4341-e4c6-730dd92b363f"
      },
      "execution_count": 77,
      "outputs": [
        {
          "output_type": "execute_result",
          "data": {
            "text/plain": [
              "               0             1\n",
              "11  Model_11_mae  21253.495358"
            ],
            "text/html": [
              "\n",
              "  <div id=\"df-6617710c-53bd-4580-b364-e5c2aa72b653\">\n",
              "    <div class=\"colab-df-container\">\n",
              "      <div>\n",
              "<style scoped>\n",
              "    .dataframe tbody tr th:only-of-type {\n",
              "        vertical-align: middle;\n",
              "    }\n",
              "\n",
              "    .dataframe tbody tr th {\n",
              "        vertical-align: top;\n",
              "    }\n",
              "\n",
              "    .dataframe thead th {\n",
              "        text-align: right;\n",
              "    }\n",
              "</style>\n",
              "<table border=\"1\" class=\"dataframe\">\n",
              "  <thead>\n",
              "    <tr style=\"text-align: right;\">\n",
              "      <th></th>\n",
              "      <th>0</th>\n",
              "      <th>1</th>\n",
              "    </tr>\n",
              "  </thead>\n",
              "  <tbody>\n",
              "    <tr>\n",
              "      <th>11</th>\n",
              "      <td>Model_11_mae</td>\n",
              "      <td>21253.495358</td>\n",
              "    </tr>\n",
              "  </tbody>\n",
              "</table>\n",
              "</div>\n",
              "      <button class=\"colab-df-convert\" onclick=\"convertToInteractive('df-6617710c-53bd-4580-b364-e5c2aa72b653')\"\n",
              "              title=\"Convert this dataframe to an interactive table.\"\n",
              "              style=\"display:none;\">\n",
              "        \n",
              "  <svg xmlns=\"http://www.w3.org/2000/svg\" height=\"24px\"viewBox=\"0 0 24 24\"\n",
              "       width=\"24px\">\n",
              "    <path d=\"M0 0h24v24H0V0z\" fill=\"none\"/>\n",
              "    <path d=\"M18.56 5.44l.94 2.06.94-2.06 2.06-.94-2.06-.94-.94-2.06-.94 2.06-2.06.94zm-11 1L8.5 8.5l.94-2.06 2.06-.94-2.06-.94L8.5 2.5l-.94 2.06-2.06.94zm10 10l.94 2.06.94-2.06 2.06-.94-2.06-.94-.94-2.06-.94 2.06-2.06.94z\"/><path d=\"M17.41 7.96l-1.37-1.37c-.4-.4-.92-.59-1.43-.59-.52 0-1.04.2-1.43.59L10.3 9.45l-7.72 7.72c-.78.78-.78 2.05 0 2.83L4 21.41c.39.39.9.59 1.41.59.51 0 1.02-.2 1.41-.59l7.78-7.78 2.81-2.81c.8-.78.8-2.07 0-2.86zM5.41 20L4 18.59l7.72-7.72 1.47 1.35L5.41 20z\"/>\n",
              "  </svg>\n",
              "      </button>\n",
              "      \n",
              "  <style>\n",
              "    .colab-df-container {\n",
              "      display:flex;\n",
              "      flex-wrap:wrap;\n",
              "      gap: 12px;\n",
              "    }\n",
              "\n",
              "    .colab-df-convert {\n",
              "      background-color: #E8F0FE;\n",
              "      border: none;\n",
              "      border-radius: 50%;\n",
              "      cursor: pointer;\n",
              "      display: none;\n",
              "      fill: #1967D2;\n",
              "      height: 32px;\n",
              "      padding: 0 0 0 0;\n",
              "      width: 32px;\n",
              "    }\n",
              "\n",
              "    .colab-df-convert:hover {\n",
              "      background-color: #E2EBFA;\n",
              "      box-shadow: 0px 1px 2px rgba(60, 64, 67, 0.3), 0px 1px 3px 1px rgba(60, 64, 67, 0.15);\n",
              "      fill: #174EA6;\n",
              "    }\n",
              "\n",
              "    [theme=dark] .colab-df-convert {\n",
              "      background-color: #3B4455;\n",
              "      fill: #D2E3FC;\n",
              "    }\n",
              "\n",
              "    [theme=dark] .colab-df-convert:hover {\n",
              "      background-color: #434B5C;\n",
              "      box-shadow: 0px 1px 3px 1px rgba(0, 0, 0, 0.15);\n",
              "      filter: drop-shadow(0px 1px 2px rgba(0, 0, 0, 0.3));\n",
              "      fill: #FFFFFF;\n",
              "    }\n",
              "  </style>\n",
              "\n",
              "      <script>\n",
              "        const buttonEl =\n",
              "          document.querySelector('#df-6617710c-53bd-4580-b364-e5c2aa72b653 button.colab-df-convert');\n",
              "        buttonEl.style.display =\n",
              "          google.colab.kernel.accessAllowed ? 'block' : 'none';\n",
              "\n",
              "        async function convertToInteractive(key) {\n",
              "          const element = document.querySelector('#df-6617710c-53bd-4580-b364-e5c2aa72b653');\n",
              "          const dataTable =\n",
              "            await google.colab.kernel.invokeFunction('convertToInteractive',\n",
              "                                                     [key], {});\n",
              "          if (!dataTable) return;\n",
              "\n",
              "          const docLinkHtml = 'Like what you see? Visit the ' +\n",
              "            '<a target=\"_blank\" href=https://colab.research.google.com/notebooks/data_table.ipynb>data table notebook</a>'\n",
              "            + ' to learn more about interactive tables.';\n",
              "          element.innerHTML = '';\n",
              "          dataTable['output_type'] = 'display_data';\n",
              "          await google.colab.output.renderOutput(dataTable, element);\n",
              "          const docLink = document.createElement('div');\n",
              "          docLink.innerHTML = docLinkHtml;\n",
              "          element.appendChild(docLink);\n",
              "        }\n",
              "      </script>\n",
              "    </div>\n",
              "  </div>\n",
              "  "
            ]
          },
          "metadata": {},
          "execution_count": 77
        }
      ]
    },
    {
      "cell_type": "markdown",
      "source": [
        "**So out of all our models, model 11 performed the best.**"
      ],
      "metadata": {
        "id": "K6TzKU3gS_Rh"
      }
    },
    {
      "cell_type": "markdown",
      "source": [
        "# Visualizing our best model yet"
      ],
      "metadata": {
        "id": "w1EHDzjAVRGn"
      }
    },
    {
      "cell_type": "code",
      "source": [
        "#Model_11\n",
        "pd.DataFrame(history_11.history).plot()\n",
        "plt.ylabel(\"loss\")\n",
        "plt.xlabel(\"epochs\")"
      ],
      "metadata": {
        "colab": {
          "base_uri": "https://localhost:8080/",
          "height": 297
        },
        "id": "Qm9-C22aVDx5",
        "outputId": "c2134fba-78b4-4238-9efc-40aafcf0e054"
      },
      "execution_count": 79,
      "outputs": [
        {
          "output_type": "execute_result",
          "data": {
            "text/plain": [
              "Text(0.5, 0, 'epochs')"
            ]
          },
          "metadata": {},
          "execution_count": 79
        },
        {
          "output_type": "display_data",
          "data": {
            "text/plain": [
              "<Figure size 432x288 with 1 Axes>"
            ],
            "image/png": "[encoded data removed]"
          },
          "metadata": {
            "needs_background": "light"
          }
        }
      ]
    },
    {
      "cell_type": "markdown",
      "source": [
        "**See, with the help of deep learning we have defeated a linear regression model, this graph shows how gradually the loss decreased.**"
      ],
      "metadata": {
        "id": "Kc8uXdn3VYCN"
      }
    },
    {
      "cell_type": "code",
      "source": [
        ""
      ],
      "metadata": {
        "id": "Sxg2hk6BVnWN"
      },
      "execution_count": null,
      "outputs": []
    }
  ]
}